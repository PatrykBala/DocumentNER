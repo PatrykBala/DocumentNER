{
 "cells": [
  {
   "cell_type": "code",
   "execution_count": 1,
   "id": "45b56e03",
   "metadata": {},
   "outputs": [],
   "source": [
    "import cv2\n",
    "import predictions as pred"
   ]
  },
  {
   "cell_type": "code",
   "execution_count": 2,
   "id": "c35879e9",
   "metadata": {},
   "outputs": [],
   "source": [
    "img = cv2.imread('./data/1.jpg')\n",
    "\n",
    "cv2.namedWindow('orginal',cv2.WINDOW_NORMAL)\n",
    "cv2.imshow('orginal',img)\n",
    "cv2.waitKey(0)\n",
    "cv2.destroyAllWindows()"
   ]
  },
  {
   "cell_type": "code",
   "execution_count": 4,
   "id": "2950b3a7",
   "metadata": {},
   "outputs": [
    {
     "name": "stdout",
     "output_type": "stream",
     "text": [
      "cell phone repair center mobile repair thomas atkins general manager mobile 91 908725526 mail thomasatkins@gmail.com 91 908725666 website www.abccompany.com ar es ripti aie\n",
      "{'NAME': ['Thomas Atkins'], 'ORG': ['Phone Repair Center', 'Repair'], 'DES': ['General Manager'], 'PHONE': ['91908725526', '91908725666'], 'EMAIL': ['thomasatkins@gmail.com'], 'WEB': ['www.abccompany.com']}\n"
     ]
    }
   ],
   "source": [
    "img_results, entities = pred.getPredictions(img)\n",
    "\n",
    "print(entities)\n",
    "cv2.namedWindow('predictions',cv2.WINDOW_NORMAL)\n",
    "cv2.imshow('predictions',img)\n",
    "cv2.waitKey(0)\n",
    "cv2.destroyAllWindows()"
   ]
  },
  {
   "cell_type": "code",
   "execution_count": null,
   "id": "7f030826",
   "metadata": {},
   "outputs": [],
   "source": []
  }
 ],
 "metadata": {
  "kernelspec": {
   "display_name": "Python 3 (ipykernel)",
   "language": "python",
   "name": "python3"
  },
  "language_info": {
   "codemirror_mode": {
    "name": "ipython",
    "version": 3
   },
   "file_extension": ".py",
   "mimetype": "text/x-python",
   "name": "python",
   "nbconvert_exporter": "python",
   "pygments_lexer": "ipython3",
   "version": "3.10.1"
  }
 },
 "nbformat": 4,
 "nbformat_minor": 5
}
